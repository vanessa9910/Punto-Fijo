{
 "cells": [
  {
   "cell_type": "markdown",
   "metadata": {
    "collapsed": false
   },
   "source": [
    "Consiste en despejar la variable, dar un valor inicial y actualizar hasta que sea cercano a cero"
   ]
  },
  {
   "cell_type": "code",
   "execution_count": 4,
   "metadata": {
    "collapsed": false
   },
   "outputs": [
    {
     "name": "stdout",
     "output_type": "stream",
     "text": [
      "La raíz es 0.96531 .\n",
      "Usando 8 interaciones\n"
     ]
    }
   ],
   "source": [
    "def xnew(x):\n",
    "    return ((2*x**2+3)/5)\n",
    "x0 = 0\n",
    "x1=0\n",
    "itera = 0\n",
    "for i in range (100):\n",
    "    x1 = xnew(x0)\n",
    "    if abs(x1 - x0)< 0.01:\n",
    "        break\n",
    "    x0 = x1\n",
    "    itera += 1\n",
    "    \n",
    "print (\"La raíz es %.5f .\"%x1)\n",
    "print(\"Usando %d interaciones\"%itera)"
   ]
  },
  {
   "cell_type": "code",
   "execution_count": 0,
   "metadata": {
    "collapsed": false
   },
   "outputs": [
   ],
   "source": [
   ]
  }
 ],
 "metadata": {
  "kernelspec": {
   "display_name": "SageMath (stable)",
   "name": "sagemath"
  },
  "language_info": {
   "codemirror_mode": {
    "name": "ipython",
    "version": 2
   },
   "file_extension": ".py",
   "mimetype": "text/x-python",
   "name": "python",
   "nbconvert_exporter": "python",
   "pygments_lexer": "ipython2",
   "version": "2.7.15"
  }
 },
 "nbformat": 4,
 "nbformat_minor": 0
}